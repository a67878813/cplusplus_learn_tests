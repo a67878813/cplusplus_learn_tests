{
 "cells": [
  {
   "cell_type": "code",
   "execution_count": null,
   "metadata": {},
   "outputs": [],
   "source": []
  },
  {
   "cell_type": "markdown",
   "metadata": {},
   "source": [
    "$\\sum_i^n a_i$"
   ]
  },
  {
   "cell_type": "markdown",
   "metadata": {},
   "source": [
    "${f(x)=a_nx^n}$"
   ]
  },
  {
   "cell_type": "markdown",
   "metadata": {},
   "source": [
    "\n",
    "\n",
    "$\\sqrt{12}\\\\$\n",
    "$\\sqrt[n]{12}$\n",
    "\n",
    "\n"
   ]
  },
  {
   "cell_type": "markdown",
   "metadata": {},
   "source": [
    "$P(v)=\\frac{1}{1+exp(-v/T)}$"
   ]
  },
  {
   "cell_type": "markdown",
   "metadata": {},
   "source": [
    "$$\n",
    "\\begin{pmatrix}\n",
    "a & b& c\\\\\n",
    "d & e& f\\\\\n",
    "g & h& i\\\\\n",
    "\n",
    "\\end{pmatrix}\n",
    "\n",
    "\n",
    "$$"
   ]
  },
  {
   "cell_type": "markdown",
   "metadata": {},
   "source": [
    "##kinamatics\n"
   ]
  },
  {
   "cell_type": "markdown",
   "metadata": {},
   "source": [
    "$$\n",
    "\\chi(\\lambda) =  \n",
    "\\begin{vmatrix}\n",
    "\\lambda - a & -b & -c \\\\\n",
    "-d & \\lambda - e & -f \\\\\n",
    "-g & -h & \\lambda - i \n",
    "\\end{vmatrix}\n",
    "$$"
   ]
  },
  {
   "cell_type": "markdown",
   "metadata": {},
   "source": [
    "$\\ldots$"
   ]
  },
  {
   "cell_type": "markdown",
   "metadata": {},
   "source": [
    "\\begin{equation}\n",
    "(a+b) \\times c = a\\times c + b \\times c \\\\\n",
    "\\end{equation}"
   ]
  },
  {
   "cell_type": "markdown",
   "metadata": {},
   "source": [
    "$$\n",
    "\\begin{align*}\n",
    "x = \\cos\\theta & & \n",
    "\\end{align*}\n",
    "$$"
   ]
  },
  {
   "cell_type": "markdown",
   "metadata": {},
   "source": [
    "$$\n",
    "\\begin{pmatrix}\n",
    "\\dot{a} & \\vec{b}& c\\\\\n",
    "\\ddot{d} & e& f\\\\\n",
    "g & h& i\\\\\n",
    "\n",
    "\\end{pmatrix}\n",
    "=\n",
    "\\begin{pmatrix}\n",
    "\\cos\\theta \\\\\n",
    "\\sin\\theta \\\\\n",
    "0 \\\\\n",
    "\\end{pmatrix}\n",
    "\n",
    "\n",
    "$$"
   ]
  },
  {
   "cell_type": "markdown",
   "metadata": {},
   "source": [
    "$$\n",
    "g_2(q) = \n",
    "\\begin{vmatrix}\n",
    "0\\\\\n",
    "0\\\\\n",
    "1\n",
    "\\end{vmatrix}\n",
    "$$"
   ]
  },
  {
   "cell_type": "markdown",
   "metadata": {},
   "source": [
    "$ldots"
   ]
  },
  {
   "cell_type": "markdown",
   "metadata": {},
   "source": [
    "$\\mathbb{R}^n$"
   ]
  },
  {
   "cell_type": "markdown",
   "metadata": {},
   "source": [
    "$R^n$"
   ]
  },
  {
   "cell_type": "markdown",
   "metadata": {},
   "source": [
    "\\mathbb{R}"
   ]
  },
  {
   "cell_type": "markdown",
   "metadata": {},
   "source": [
    "### 判断一个系统是否为完整约束\n",
    "使用李括号（Lie bracket)的分析方法\n",
    "\n",
    "C表示位形空间，\n",
    "\n",
    "\n",
    "位形写为$q\\in C$\n",
    "\n",
    "$T_q C$为q处的切空间（tangent space）\n",
    "\n",
    "它是由所有速度向量组成的空间，可被看作是   $R^n$的原点被置于$q$处时的拷贝\n",
    "\n",
    "一个速度向量可被写为\n",
    "$\\dot{q} \\in T_q C$"
   ]
  },
  {
   "cell_type": "markdown",
   "metadata": {},
   "source": [
    "定义 k个 Pfaffian约束组成的集合具有如下形式：\n",
    "\n",
    "$w_i (q)\\dot{q}=0,  i=1,\\ldots,k$\n",
    "\n",
    "w_i 是线性无辜啊的行向量， 而q是一个列向量。"
   ]
  },
  {
   "cell_type": "markdown",
   "metadata": {},
   "source": [
    "\n",
    "向量场是从位形q到速度向量$\\dot{q}$ 的一个光滑映射\n",
    "\n",
    "$f(q): C\\mapsto T_q C$"
   ]
  },
  {
   "cell_type": "code",
   "execution_count": null,
   "metadata": {},
   "outputs": [],
   "source": []
  },
  {
   "cell_type": "markdown",
   "metadata": {},
   "source": [
    "$q= (x,y,\\theta )^T$\n",
    "\n",
    "$\\dot{q}=(\\dot{x},\\dot{y},\\dot{\\theta})^T$\n",
    "\n",
    "对于给定的任意q，存在两个可被视为基本运动的运动。\n",
    "\n",
    "围绕接触点旋转\n",
    "\n",
    "$$\n",
    "\\begin{pmatrix}\n",
    "\\dot{x}\\\\\n",
    "\\dot{y}\\\\\n",
    "\\dot{\\theta}\\\\\n",
    "\\end{pmatrix}\n",
    "=\n",
    "\\begin{pmatrix}\n",
    "0\\\\\n",
    "0\\\\\n",
    "1\n",
    "\\end{pmatrix}\n",
    "$$\n",
    "\n",
    "\n",
    "\n",
    "\n",
    "沿着$\\theta$方向滚动前进\n",
    "\n",
    "\n",
    "$$\n",
    "\\begin{pmatrix}\n",
    "\\dot{x}\\\\\n",
    "\\dot{y}\\\\\n",
    "\\dot{\\theta}\\\\\n",
    "\\end{pmatrix}\n",
    "=\n",
    "\\begin{pmatrix}\n",
    "\\cos\\theta\\\\\n",
    "\\sin\\theta\\\\\n",
    "1\n",
    "\\end{pmatrix}\n",
    "$$"
   ]
  },
  {
   "cell_type": "markdown",
   "metadata": {},
   "source": [
    "定义两个向量场g1 和 g2(表示独轮车的两个独立运动)\n",
    "\n",
    "$$\n",
    "g_1 (q) =\n",
    "\\begin{pmatrix}\n",
    "0\\\\\n",
    "0\\\\\n",
    "1\n",
    "\\end{pmatrix}\n",
    "\n",
    "$$\n",
    "\n",
    "$$\n",
    "g_2 (q) =\n",
    "\\begin{pmatrix}\n",
    "\\cos\\theta\\\\\n",
    "\\sin\\theta\\\\\n",
    "0\n",
    "\\end{pmatrix}\n",
    "\n",
    "$$\n",
    "\n",
    "对于该例， 单个Pfaffian约束可被写为\n",
    "\n",
    "$w_1 =(\\sin\\theta, -\\cos\\theta, 0) $"
   ]
  },
  {
   "cell_type": "markdown",
   "metadata": {},
   "source": [
    "分布 是指一个光滑映射， 该映射为C中的每个q分配了$T_q C$中的一个线性子空间"
   ]
  },
  {
   "cell_type": "markdown",
   "metadata": {},
   "source": []
  }
 ],
 "metadata": {
  "kernelspec": {
   "display_name": "Python 3.8.8 ('base')",
   "language": "python",
   "name": "python3"
  },
  "language_info": {
   "codemirror_mode": {
    "name": "ipython",
    "version": 3
   },
   "file_extension": ".py",
   "mimetype": "text/x-python",
   "name": "python",
   "nbconvert_exporter": "python",
   "pygments_lexer": "ipython3",
   "version": "3.8.8"
  },
  "orig_nbformat": 4,
  "vscode": {
   "interpreter": {
    "hash": "73d87cb0b3a67d134b0b5be0b5dad3a2cd7bcde46fe802a472bd3fb72ce78291"
   }
  }
 },
 "nbformat": 4,
 "nbformat_minor": 2
}

