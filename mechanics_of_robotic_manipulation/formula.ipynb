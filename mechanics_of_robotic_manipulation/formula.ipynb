{
 "cells": [
  {
   "cell_type": "code",
   "execution_count": null,
   "metadata": {},
   "outputs": [],
   "source": []
  },
  {
   "cell_type": "markdown",
   "metadata": {},
   "source": [
    "$\\sum_i^n a_i$"
   ]
  },
  {
   "cell_type": "markdown",
   "metadata": {},
   "source": [
    "${f(x)=a_nx^n}$"
   ]
  },
  {
   "cell_type": "code",
   "execution_count": null,
   "metadata": {},
   "outputs": [],
   "source": []
  },
  {
   "cell_type": "markdown",
   "metadata": {},
   "source": [
    "\n",
    "\n",
    "$\\sqrt{12}\\\\$\n",
    "$\\sqrt[n]{12}$\n",
    "\n",
    "\n"
   ]
  },
  {
   "cell_type": "markdown",
   "metadata": {},
   "source": [
    "$P(v)=\\frac{1}{1+exp(-v/T)}$"
   ]
  },
  {
   "cell_type": "markdown",
   "metadata": {},
   "source": [
    "$$\n",
    "\\begin{pmatrix}\n",
    "a & b& c\\\\\n",
    "d & e& f\\\\\n",
    "g & h& i\\\\\n",
    "\n",
    "\\end{pmatrix}\n",
    "\n",
    "\n",
    "$$"
   ]
  },
  {
   "cell_type": "markdown",
   "metadata": {},
   "source": [
    "##kinamatics\n"
   ]
  },
  {
   "cell_type": "markdown",
   "metadata": {},
   "source": [
    "$$\n",
    "\\chi(\\lambda) =  \n",
    "\\begin{vmatrix}\n",
    "\\lambda - a & -b & -c \\\\\n",
    "-d & \\lambda - e & -f \\\\\n",
    "-g & -h & \\lambda - i \n",
    "\\end{vmatrix}\n",
    "$$"
   ]
  },
  {
   "cell_type": "markdown",
   "metadata": {},
   "source": [
    "$\\ldots$"
   ]
  },
  {
   "cell_type": "markdown",
   "metadata": {},
   "source": [
    "\\begin{equation}\n",
    "(a+b) \\times c = a\\times c + b \\times c \\\\\n",
    "\\end{equation}"
   ]
  },
  {
   "cell_type": "markdown",
   "metadata": {},
   "source": [
    "$$\n",
    "\\begin{align*}\n",
    "x = \\cos\\theta & & \n",
    "\\end{align*}\n",
    "$$"
   ]
  },
  {
   "cell_type": "markdown",
   "metadata": {},
   "source": [
    "$$\n",
    "\\begin{pmatrix}\n",
    "\\dot{a} & \\vec{b}& c\\\\\n",
    "\\ddot{d} & e& f\\\\\n",
    "g & h& i\\\\\n",
    "\n",
    "\\end{pmatrix}\n",
    "=\n",
    "\\begin{pmatrix}\n",
    "\\cos\\theta \\\\\n",
    "\\sin\\theta \\\\\n",
    "0 \\\\\n",
    "\\end{pmatrix}\n",
    "\n",
    "\n",
    "$$"
   ]
  },
  {
   "cell_type": "markdown",
   "metadata": {},
   "source": [
    "$$\n",
    "g_2(q) = \n",
    "\\begin{vmatrix}\n",
    "0\\\\\n",
    "0\\\\\n",
    "1\n",
    "\\end{vmatrix}\n",
    "$$"
   ]
  },
  {
   "cell_type": "markdown",
   "metadata": {},
   "source": [
    "$ldots"
   ]
  },
  {
   "cell_type": "markdown",
   "metadata": {},
   "source": [
    "$\\mathbb{R}^n$"
   ]
  },
  {
   "cell_type": "markdown",
   "metadata": {},
   "source": [
    "$R^n$"
   ]
  },
  {
   "cell_type": "markdown",
   "metadata": {},
   "source": [
    "\\mathbb{R}"
   ]
  },
  {
   "cell_type": "markdown",
   "metadata": {},
   "source": [
    "### 判断一个系统是否为完整约束\n",
    "使用李括号（Lie bracket)的分析方法\n",
    "\n",
    "C表示位形空间，\n",
    "\n",
    "\n",
    "位形写为$q\\in C$\n",
    "\n",
    "$T_q C$为q处的切空间（tangent space）\n",
    "\n",
    "它是由所有速度向量组成的空间，可被看作是   $R^n$的原点被置于$q$处时的拷贝\n",
    "\n",
    "一个速度向量可被写为\n",
    "$\\dot{q} \\in T_q C$"
   ]
  },
  {
   "cell_type": "markdown",
   "metadata": {},
   "source": [
    "定义 k个 Pfaffian约束组成的集合具有如下形式：\n",
    "\n",
    "$w_i (q)\\dot{q}=0,  i=1,\\ldots,k$\n",
    "\n",
    "w_i 是线性无辜啊的行向量， 而q是一个列向量。"
   ]
  },
  {
   "cell_type": "markdown",
   "metadata": {},
   "source": [
    "\n",
    "向量场是从位形q到速度向量$\\dot{q}$ 的一个光滑映射\n",
    "\n",
    "$f(q): C\\mapsto T_q C$"
   ]
  },
  {
   "cell_type": "code",
   "execution_count": null,
   "metadata": {},
   "outputs": [],
   "source": []
  },
  {
   "cell_type": "markdown",
   "metadata": {},
   "source": [
    "$q= (x,y,\\theta )^T$\n",
    "\n",
    "$\\dot{q}=(\\dot{x},\\dot{y},\\dot{\\theta})^T$\n",
    "\n",
    "对于给定的任意q，存在两个可被视为基本运动的运动。\n",
    "\n",
    "围绕接触点旋转\n",
    "\n",
    "$$\n",
    "\\begin{pmatrix}\n",
    "\\dot{x}\\\\\n",
    "\\dot{y}\\\\\n",
    "\\dot{\\theta}\\\\\n",
    "\\end{pmatrix}\n",
    "=\n",
    "\\begin{pmatrix}\n",
    "0\\\\\n",
    "0\\\\\n",
    "1\n",
    "\\end{pmatrix}\n",
    "$$\n",
    "\n",
    "\n",
    "\n",
    "\n",
    "沿着$\\theta$方向滚动前进\n",
    "\n",
    "\n",
    "$$\n",
    "\\begin{pmatrix}\n",
    "\\dot{x}\\\\\n",
    "\\dot{y}\\\\\n",
    "\\dot{\\theta}\\\\\n",
    "\\end{pmatrix}\n",
    "=\n",
    "\\begin{pmatrix}\n",
    "\\cos\\theta\\\\\n",
    "\\sin\\theta\\\\\n",
    "1\n",
    "\\end{pmatrix}\n",
    "$$"
   ]
  },
  {
   "cell_type": "markdown",
   "metadata": {},
   "source": [
    "定义两个向量场g1 和 g2(表示独轮车的两个独立运动)\n",
    "\n",
    "$$\n",
    "g_1 (q) =\n",
    "\\begin{pmatrix}\n",
    "0\\\\\n",
    "0\\\\\n",
    "1\n",
    "\\end{pmatrix}\n",
    "\n",
    "$$\n",
    "\n",
    "$$\n",
    "g_2 (q) =\n",
    "\\begin{pmatrix}\n",
    "\\cos\\theta\\\\\n",
    "\\sin\\theta\\\\\n",
    "0\n",
    "\\end{pmatrix}\n",
    "\n",
    "$$\n",
    "\n",
    "对于该例， 单个Pfaffian约束可被写为\n",
    "\n",
    "$w_1 =(\\sin\\theta, -\\cos\\theta, 0) $"
   ]
  },
  {
   "cell_type": "markdown",
   "metadata": {},
   "source": [
    "分布 是指一个光滑映射， 该映射为C中的每个q分配了$T_q C$中的一个线性子空间"
   ]
  },
  {
   "cell_type": "markdown",
   "metadata": {},
   "source": []
  },
  {
   "cell_type": "markdown",
   "metadata": {},
   "source": [
    "$\\partial g_2$\n",
    "\n",
    "$\\text{d}f$\n",
    "\n",
    "$\\frac{\\text{d}f}{\\text{d}x}$"
   ]
  },
  {
   "cell_type": "markdown",
   "metadata": {},
   "source": [
    "$\\Big [$\n",
    "$[$\n"
   ]
  },
  {
   "cell_type": "markdown",
   "metadata": {},
   "source": [
    "$$ f(x)=\\left\\{\n",
    "\\begin{aligned}\n",
    "x & =  \\cos(t) \\\\\n",
    "y & =  \\sin(t) \\\\\n",
    "z & =  \\frac xy\n",
    "\\end{aligned}\n",
    "\\right.\n",
    "$$"
   ]
  },
  {
   "cell_type": "markdown",
   "metadata": {},
   "source": [
    "$$ F^{HLLC}=\\left\\{\n",
    "\\begin{array}{rcl}\n",
    "F_L       &      & {0      <      S_L}\\\\\n",
    "F^*_L     &      & {S_L \\leq 0 < S_M}\\\\\n",
    "F^*_R     &      & {S_M \\leq 0 < S_R}\\\\\n",
    "F_R       &      & {S_R \\leq 0}\n",
    "\\end{array} \\right. $$"
   ]
  },
  {
   "cell_type": "markdown",
   "metadata": {},
   "source": [
    "$$\n",
    "F()^T\n",
    "$$"
   ]
  },
  {
   "cell_type": "markdown",
   "metadata": {},
   "source": [
    "令f,g为C内的两个向量场\n",
    "\n",
    "定义 李括号[f,g]为如下形式的向量场\n",
    "\n"
   ]
  },
  {
   "cell_type": "markdown",
   "metadata": {},
   "source": [
    "$$\n",
    "\\frac{\\partial g}{\\partial q}f -\\frac{\\partial f}{\\partial q}g\n",
    "$$"
   ]
  },
  {
   "cell_type": "markdown",
   "metadata": {},
   "source": [
    "李括号定义中的两个偏导数，是向量场相对于位形空间变化的导数，\n",
    "\n",
    "表示为  $n\\times n$ 的矩阵"
   ]
  },
  {
   "cell_type": "markdown",
   "metadata": {},
   "source": []
  },
  {
   "cell_type": "markdown",
   "metadata": {},
   "source": [
    "分布\n",
    "$$\n",
    "\\Delta = span(g_1, g_2)\n",
    "$$\n",
    "\n"
   ]
  },
  {
   "cell_type": "markdown",
   "metadata": {},
   "source": [
    "$$\n",
    "\n",
    "g_1(q)\n",
    "=\n",
    "\\begin{pmatrix}\n",
    "0\\\\\n",
    "0\\\\\n",
    "1\n",
    "\\end{pmatrix}\n",
    "$$\n",
    "\n",
    "$$\n",
    "\n",
    "g_2(q)\n",
    "=\n",
    "\\begin{pmatrix}\n",
    "\\cos \\theta \\\\\n",
    "\\sin \\theta\\\\\n",
    "0\n",
    "\\end{pmatrix}\n",
    "$$\n"
   ]
  },
  {
   "cell_type": "markdown",
   "metadata": {},
   "source": []
  },
  {
   "cell_type": "markdown",
   "metadata": {},
   "source": []
  },
  {
   "cell_type": "markdown",
   "metadata": {},
   "source": [
    "$$\n",
    "\n",
    "\\frac{\\partial g_1}{\\partial q}\n",
    "=\n",
    "\\begin{pmatrix}\n",
    "0&0&0 \\\\\n",
    "0&0&0 \\\\\n",
    "0&0&0 \\\\\n",
    "\\end{pmatrix}\n",
    "$$\n",
    "\n",
    "$$\n",
    "\n",
    "\\frac{\\partial g_2}{\\partial q}\n",
    "=\n",
    "\\begin{pmatrix}\n",
    "0&0&-\\sin\\theta \\\\\n",
    "0&0&\\cos\\theta \\\\\n",
    "0&0&0 \\\\\n",
    "\\end{pmatrix}\n",
    "$$\n"
   ]
  },
  {
   "cell_type": "markdown",
   "metadata": {},
   "source": [
    "??为什么对（3，1）的矩阵求偏导变为（3,3)矩阵？？\n",
    "\n",
    "function(input)\n",
    "function可为 标量 向量 矩阵\n",
    "input 可为 标量 向量 矩阵\n",
    "\n",
    "\n",
    "矩阵求导也是一样的，本质就是function中的每个f分别对变元中的每个元素逐个求偏导，只不过写成了向量、矩阵形式而已。\n",
    "\n",
    "此时q是位置矢量$(x,y,\\theta)^T$\n",
    "\n",
    "\n",
    "$q= (x,y,\\theta )^T$\n",
    "\n",
    "$\\dot{q}=(\\dot{x},\\dot{y},\\dot{\\theta})^T$"
   ]
  },
  {
   "cell_type": "markdown",
   "metadata": {},
   "source": []
  },
  {
   "cell_type": "markdown",
   "metadata": {},
   "source": [
    "对于由李括号定义的新的向量场，得到\n",
    "$$\n",
    "\\bm{g_3}=\\Big [\\bm{g_1},\\bm{g_2} \\Big ]\n",
    "$$\n",
    "\n",
    "$$\n",
    "= \\frac{\\partial \\bm{g_2}}{\\partial q} \\bm{g_1}\n",
    "    -  \\frac{\\partial \\bm{g_1}}{\\partial q} \\bm{g_2}\n",
    "$$\n",
    "\n",
    "$$\n",
    "=\n",
    "\\begin{pmatrix}\n",
    "-\\sin\\theta \\\\\n",
    "\\cos\\theta \\\\\n",
    "0 \\\\\n",
    "\\end{pmatrix} \n",
    "$$"
   ]
  },
  {
   "cell_type": "markdown",
   "metadata": {},
   "source": [
    "李括号运动g3是一个平行趴车动作，对应于独轮车的侧向运动，但g3会 **违反** 独轮车的运动约束，它也肯定不在分布span（g1，g2）中。\n",
    "因此我们看到的分布并不是对合分布。\n",
    "\n",
    "因此根据Frobenius定理，独轮车是一个非完整系统。"
   ]
  },
  {
   "cell_type": "markdown",
   "metadata": {},
   "source": [
    "## 根据速度中心对平面约束进行分析 （Reuleaux法）\n",
    "\n",
    "最初由Reuleaux（德国机械工程转接，机构运动学创始人）提出\n",
    "、通过在每个旋转中心附加一个符号标记，便可分析单边约束。\n",
    "\n",
    "法线：接触曲线切面的垂线。一般物体外为正方向。\n",
    "\n",
    "单个单边约束分析：\n",
    "对于处在接触法线右侧的瞬心，只有负方向（顺时针）的旋转才是可行的。类似，对于位于接触法线左侧的瞬心，只有正方向（逆时针）的旋转才是可行的。对于处在接触法线上的瞬心，两个方向旋转都有可能。\n",
    "\n",
    "因此通过在可能选装中心的平面区域内做 $ +  - \\pm$ 等标记，可以对约束进行描述。\n",
    "\n",
    "###描述多个约束\n",
    "\n",
    "对每个约束单独标记其区域，只保留标记符号始终如一的区域。\n",
    "\n",
    "### Reuleaux 法总结\n",
    "1. 对于每个接触点创建一个接触法线\n",
    "2. 对于每个法线，在平面内标记 $ +  - \\pm$等区域\n",
    "3. 每个标记符号始终如一的区域给出一组可能的转动极点（瞬心）。\n",
    "\n",
    "Reuleaux法为一阶分析方法，有时候会给出错误答案。当一个物体无法运动是，该方法可能会给出运动中心。\n"
   ]
  },
  {
   "cell_type": "markdown",
   "metadata": {},
   "source": []
  },
  {
   "cell_type": "markdown",
   "metadata": {},
   "source": [
    "## 运动机构（kinematic mechanism）\n",
    "运动机构：由通过关节相连的几个连杆的刚体组成。\n",
    "\n",
    "一个关节会对与其相连的两个连杆施加一个或多个约束。\n",
    "\n",
    "低副（lower pair）： 由几种类型的关节组成，这些关节可由具有正接触面积（接触面积大于零）的两个表面构建而成。\n",
    "因此，当一个圆柱轴处于一个与其相匹配的圆柱孔内时，便形成了一个低副，即圆柱副（cylindrical pair）；\n",
    "但当圆柱储与平面上两者为线接触时（此时两者接触面积为0），形成了一个高副（higher pair）。\n",
    "\n",
    "- 平面副  自由度3\n",
    "- 球面副  自由度3\n",
    "- 圆柱副  自由度2\n",
    "- 回转副  自由度1\n",
    "- 移动副  自由度1\n",
    "- 螺旋副  自由度1\n",
    "\n",
    "\n",
    "关于运动机构的研究将要解决如下问题：对于给定的一个连杆机构，确定该机构的可能运动，以及设计一个能够产生期望运动的连杆机构。\n",
    "\n",
    "\n"
   ]
  },
  {
   "cell_type": "markdown",
   "metadata": {},
   "source": [
    "正运动学：已知机械臂关节角，求对应机械臂末端的位姿；\n",
    "\n",
    "逆运动学：以之机械臂末端位姿，求对应机械臂关节角\n",
    "\n",
    "求解正运动学：\n",
    "1. 在杆上建立frame（坐标系），用frame状态表示机械臂连杆状态\n",
    "2. 根据坐标系关系及连杆参数，写出机械臂D-H table;\n",
    "3. 根据D-H table 求解各连杆的变换矩阵T;\n",
    "4. 由T矩阵求解机械臂末端相对于基坐标系的坐标\n",
    "\n"
   ]
  },
  {
   "cell_type": "markdown",
   "metadata": {},
   "source": [
    "### 确定机构的可动度（mobility）。\n",
    "\n",
    "可动度：当一个连杆固定时，整个连杆机构的自由度数目。\n",
    "\n",
    "连通度：某个特定连杆相对于另一连杆的自由度数目。\n",
    "\n",
    "#### 空间连杆机构的 **Grubler** 公式\n",
    "有一个简单公式可确定连杆机构的可动度。\n",
    "- n 连杆数量\n",
    "- g 关节数量\n",
    "- 对于第i 个关节\n",
    "- $u_i$表示约束的数量\n",
    "- $f_i$表示自由度数目\n",
    "- $u_i + f_i =6$\n",
    "  \n",
    "如果将一个连杆看作是固定的，假设所有约束相互独立，那么该机构的可动度为\n",
    "$$\n",
    "\\begin{align*}\n",
    "M &= 6(n-1) - \\sum u_i \\\\\n",
    "\n",
    "&= 6(n-1 ) - \\sum (6-f_i) \\\\\n",
    "&= 6(n-g-1) + \\sum f_i\n",
    "\\end{align*}\n",
    "$$\n",
    "\n",
    "\n",
    "\n",
    "#### 平面连杆公式\n",
    "\n",
    "$$\n",
    "\\begin{align*}\n",
    "M &= 3(n-1) - \\sum u_i \\\\\n",
    "\n",
    "\n",
    "&= 3(n-g-1) + \\sum f_i\n",
    "\\end{align*}\n",
    "$$\n",
    "\n",
    "#### 对于有环路（loop）机构\n",
    "\n",
    "对于一个单环运动链而言，其连杆数目等于关节数目（n=g), 因此：\n",
    "$$\n",
    "M = \\sum f_i + 6(-1)\n",
    "$$\n",
    "\n",
    "\n",
    "如果假如一个带有k个连杆，k+1个关节组成的开式运动链，从而建立一个双环机构，将有：\n",
    "$$\n",
    "M = \\sum f_i + 6(-2)\n",
    "$$\n",
    "每加入一个开式运动链，关节超过连杆的数目就+1 。因此，对于包含l个环路的运动链而言，如果它属于空间连杆机构，有：\n",
    "$$\n",
    "M = \\sum f_i -6l\n",
    "$$\n",
    "如果它属于平面连杆机构，有：\n",
    "$$\n",
    "M = \\sum f_i -3l\n",
    "$$\n",
    "\n"
   ]
  },
  {
   "cell_type": "markdown",
   "metadata": {},
   "source": [
    "例如，对于一个四杆机构，有四个关节，每个关节有一个自由度，并且该机构中有一个环路，因此M=1\n",
    "\n",
    "注意事项：因为Grubler公式建立在**约束之间相互独立**这一非常强的假设之上，在使用该公式的时候需要配套大量的常识知识。"
   ]
  },
  {
   "cell_type": "markdown",
   "metadata": {},
   "source": []
  },
  {
   "cell_type": "markdown",
   "metadata": {},
   "source": [
    "## 运动学表示\n",
    "\n",
    "### 空间旋转的表示\n",
    "\n",
    "旋转的性质\n",
    "- 不满足交换律\n",
    "- 空间选装的拓扑结构在三维欧氏空间$\\bm{E}^3$中没有一个光滑嵌入（smooth embedding）\n",
    "\n",
    "\n",
    "E^3内并不存在一个只用三个数字的光滑表示。\n",
    "这个问题类似于在地球表面上位各个地点分配坐标。我们所使用的精度和维度表示方法在地球的两极处会变得十分别扭，\n",
    "此时随便踏出一步便会引起经度值得彻底改变。\n",
    "\n",
    "不可能用一个平面去光滑的包裹一个球面。\n",
    "类似地，不可能用三维欧氏空间去光滑的包裹旋转空间$\\bm{SO}^3$"
   ]
  },
  {
   "cell_type": "markdown",
   "metadata": {},
   "source": [
    "因此在设计旋转的表示方法是，需要做出如下选择：只用3个数字，但同时忍受由此而引起的奇点问题；\n",
    "\n",
    "或者使用4个活更多数字，同时忍受冗余。\n",
    "这种选择取决于随具体应用而变化的多种因素。\n",
    "对于计算机来讲，存在冗余并不是问题，所以大多数算法使用带有冗余数字的表示方法。\n",
    "而另一方面，人们有时则偏好于使用最少量的数字集合。\n",
    "正是由于这些原因以及其它差异，所以并不存在某个更为优秀的表示方法。\n",
    "因此通常必须保持使用几种不同的表示方法，\n",
    "可以使用相关程序在不同的表示方法之间进行转换。\n",
    "\n",
    "### 轴线-角度\n",
    "欧拉定理指出：在任何空间旋转中都会有某些直线保持固定，它们被称为旋转轴线（转轴）。\n",
    "让我们将原点固定在转轴上的某个位置，\n",
    "并令$\\hat{\\bm{n}}$ 表示沿转轴方向的单位向量。\n",
    "令$\\theta$ 表示旋转的幅值大小，\n",
    "同时将相对于$\\hat{\\bm{n}}$右手方向作为旋转的正方向。\n",
    "那么，有序数对$( \\hat{\\bm{n}} , \\theta )$ 可以指代一个旋转，\n",
    "\n",
    "标记为$rot( \\hat{\\bm{n}} , \\theta )$  。\n",
    "\n",
    "对于旋转的表示，我们有三件事情可做。\n",
    "1. 可以交流、记录旋转。\n",
    "2. 可以旋转物体，例如记录一个点经过旋转之后的表示\n",
    "3. 给定两个旋转，我们可能想要表示它们的叠加结果\n",
    "\n",
    "对于计算叠加而言，轴线-角度（轴-角）表示方法是一个不好的选择。\n",
    "\n"
   ]
  },
  {
   "cell_type": "markdown",
   "metadata": {},
   "source": [
    "\n",
    "### Rodrigues's formula 罗德里格斯公式\n",
    "\n",
    "假设用向量 $\\bm{x}$ 表示被旋转的点。\n",
    "\n",
    "- 首先，将 $\\bm{x}$ 分解为分别与转轴 $\\hat{\\bm{n}}$ 平行和垂直的两部分:\n",
    "\n",
    "$$\n",
    "\\bm{x}=  \\bm{x}_{\\parallel}    +      \\bm{x}_{\\perp}\n",
    "$$\n",
    "\n",
    "可以将 $\\bm{x}_{\\parallel}$ 重写为  $\\hat{\\bm{n}} ( \\bm{n} \\cdot \\bm{x} )$ \n",
    "\n",
    "$\\bm{x}_{\\perp}$ 重写为  $ -\\hat{\\bm{n}}  \\times ( \\bm{n} \\times \\bm{x} )$ \n",
    "\n",
    "\n",
    "罗德里格斯公式：\n",
    "\n",
    "$$\n",
    "\\bm{x}^\\prime  =\\hat{\\bm{n}}(\\hat{\\bm{n}} \\cdot \\bm{x}) \n",
    "        + \\sin\\theta (\\hat{\\bm{n}} \\times \\bm{x}) - \\cos\\theta \\hat{\\bm{n}} \\times ( \\hat{\\bm{n}} \\times \\bm{x})\n",
    "\n",
    "$$\n",
    "\n",
    "罗德里格斯公式常用变体：\n",
    "\n",
    "$$\n",
    "\\bm{x}^\\prime  =\\bm{x}  \n",
    "        + (\\sin\\theta ) \\hat{\\bm{n}} \\cdot \\bm{x} \n",
    "        + (1- \\cos\\theta ) \\hat{\\bm{n}} \\times ( \\hat{\\bm{n}} \\times \\bm{x})\n",
    "$$\n",
    "\n"
   ]
  },
  {
   "cell_type": "markdown",
   "metadata": {},
   "source": [
    "#### 拉格朗日公式  向量三重积展开\n",
    "\n",
    "对于三个任意向量， $\\vec{a}$ $\\vec{b}$ $\\vec{c}$ \n",
    "\n",
    "一般来说，\n",
    "$$\n",
    "\\vec{a} \\times ( \\vec{b} \\times \\vec{c}) \\neq   (\\vec{a} \\times \\vec{b} ) \\times \\vec{c}\n",
    "$$\n",
    "\n",
    "以下恒等式成立\n",
    "\n",
    "$$\n",
    "\\vec{a} \\times ( \\vec{b} \\times \\vec{c}) =\n",
    "\n",
    "(\\vec{a} \\cdot \\vec{c})\\vec{b} - (\\vec{a} \\cdot \\vec{b})\\vec{c}\n",
    "$$\n",
    "\n"
   ]
  },
  {
   "cell_type": "markdown",
   "metadata": {},
   "source": [
    "$$\n",
    "\\bm{x}_{\\perp} \\cos\\theta + \\hat{\\bm{n}}\\times\\bm{x} \\sin\\theta = \\bm{x}_{\\perp}rot \n",
    "\n",
    "$$"
   ]
  },
  {
   "cell_type": "markdown",
   "metadata": {},
   "source": [
    "### 旋转矩阵\n",
    "旋转矩阵 rotation matrix  是空间旋转中最有用的一种表现方式。这是因为对一个点的旋转操作以及对两个旋转的叠加运算，都可以使用矩阵乘法实现。\n",
    "\n",
    "#### 旋转矩阵的推导\n",
    "令远点处于旋转轴线之上，\n",
    "并令 $(\\hat{\\bm{u}}_1 , \\hat{\\bm{u}}_2, \\hat{\\bm{u}}_3  )$\n",
    "描述一个右手坐标系；\n",
    "\n",
    "即， $\\hat{\\bm{u}}_i $ 将是相互正交的单位向量，\n",
    "其中，$ \\hat{\\bm{u}}_1 \\times \\hat{\\bm{u}}_2 = \\hat{\\bm{u}}_3 $\n",
    "\n",
    "$(\\hat{\\bm{u}}_1^\\prime , \\hat{\\bm{u}}_2^\\prime ,\\hat{\\bm{u}}_3^\\prime)$\n",
    "表示旋转之后的象。\n",
    "\n",
    "旋转可根据 $\\hat{\\bm{u}}_1$ 的运动得到完全确定。\n",
    "\n",
    "我们将$\\hat{\\bm{u}}_i^\\prime$ 表达在$\\hat{\\bm{u}}_i$ 的坐标里，\n",
    "整理矩阵形式如下：\n",
    "\n",
    "$$\n",
    "\\hat{\\bm{u}}_1^\\prime =\n",
    "\n",
    "\\begin{pmatrix}\n",
    "a_{11} \\\\\n",
    "a_{21} \\\\\n",
    "a_{31} \\\\\n",
    "\\end{pmatrix}\n",
    "\n",
    "=\n",
    "\\begin{pmatrix}\n",
    "\\hat{\\bm{u}}_1 \\cdot \\hat{\\bm{u}}_1^\\prime \\\\\n",
    "\\hat{\\bm{u}}_2 \\cdot \\hat{\\bm{u}}_1^\\prime \\\\\n",
    "\\hat{\\bm{u}}_3 \\cdot \\hat{\\bm{u}}_1^\\prime \\\\\n",
    "\\end{pmatrix}\n",
    "\n",
    "\n",
    "$$\n",
    "\n",
    "\n",
    "$$\n",
    "\\hat{\\bm{u}}_2^\\prime =\n",
    "\n",
    "\\begin{pmatrix}\n",
    "a_{12} \\\\\n",
    "a_{22} \\\\\n",
    "a_{32} \\\\\n",
    "\\end{pmatrix}\n",
    "\n",
    "=\n",
    "\\begin{pmatrix}\n",
    "\\hat{\\bm{u}}_1 \\cdot \\hat{\\bm{u}}_2^\\prime \\\\\n",
    "\\hat{\\bm{u}}_2 \\cdot \\hat{\\bm{u}}_2^\\prime \\\\\n",
    "\\hat{\\bm{u}}_3 \\cdot \\hat{\\bm{u}}_2^\\prime \\\\\n",
    "\\end{pmatrix}\n",
    "\n",
    "\n",
    "$$\n",
    "\n",
    "\n",
    "$$\n",
    "\\hat{\\bm{u}}_3^\\prime =\n",
    "\n",
    "\\begin{pmatrix}\n",
    "a_{13} \\\\\n",
    "a_{23} \\\\\n",
    "a_{33} \\\\\n",
    "\\end{pmatrix}\n",
    "\n",
    "=\n",
    "\\begin{pmatrix}\n",
    "\\hat{\\bm{u}}_1 \\cdot \\hat{\\bm{u}}_3^\\prime \\\\\n",
    "\\hat{\\bm{u}}_2 \\cdot \\hat{\\bm{u}}_3^\\prime \\\\\n",
    "\\hat{\\bm{u}}_3 \\cdot \\hat{\\bm{u}}_3^\\prime \\\\\n",
    "\\end{pmatrix}\n",
    "\n",
    "\n",
    "$$\n",
    "\n",
    "-----------------------\n",
    "\n",
    "\n",
    "$$\n",
    "A= (a_{ij}) = (  \\hat{\\bm{u}}_1^\\prime  |  \\hat{\\bm{u}}_2^\\prime  | \\hat{\\bm{u}}_3^\\prime)\n",
    "$$\n",
    "\n",
    "\n"
   ]
  },
  {
   "cell_type": "markdown",
   "metadata": {},
   "source": [
    "因为一个旋转矩阵有9个数字，而空间旋转仅有3个自由度，所以我们将会有6个冗余数字，实际上在旋转矩阵的这9个数字中存在着6个约束：\n",
    "\n",
    "$$\n",
    "|\\hat{\\bm{u}}_1^\\prime| = |\\hat{\\bm{u}}_2^\\prime| =|\\hat{\\bm{u}}_3^\\prime| =1\n",
    "$$\n",
    "\n",
    "$$\n",
    "\\hat{\\bm{u}}_3^\\prime = \\hat{\\bm{u}}_1^\\prime \\times \\hat{\\bm{u}}_2^\\prime\n",
    "$$\n",
    "\n",
    "上述公式只是重申这些向量是组成右手坐标系的单位向量。\n",
    "\n",
    "满足这些性质的矩阵被称为正交 orthonormal\n",
    "\n",
    "当用于表示旋转时，它们被称为旋转矩阵。\n"
   ]
  },
  {
   "cell_type": "markdown",
   "metadata": {},
   "source": [
    "#### 使用旋转矩阵来转动一点\n",
    "如果我们在坐标系 $(\\hat{\\bm{u}}_1 , \\hat{\\bm{u}}_2, \\hat{\\bm{u}}_3  )$中使用点$\\bm{x}$ 的坐标$(x_1,x_2,x_3)$来表示该点。\n",
    "\n",
    "那么旋转后的对应点$x\\prime$ \n",
    "在$(\\hat{\\bm{u}}_1^\\prime,\\hat{\\bm{u}}_2^\\prime,\\hat{\\bm{u}}_3^\\prime)$\n",
    "坐标系中则由同一坐标给出\n",
    "\n",
    "$$\n",
    "\\begin{align*}\n",
    "M &= x_1\\hat{\\bm{u}}_1^\\prime + x_2 \\hat{\\bm{u}}_2^\\prime +x_3\\hat{\\bm{u}}_3^\\prime\\\\\n",
    "\n",
    "&= 6(n-1 ) - \\sum (6-f_i) \\\\\n",
    "&= 6(n-g-1) + \\sum f_i\n",
    "\\end{align*}\n",
    "$$\n",
    "\n",
    "\n"
   ]
  },
  {
   "cell_type": "markdown",
   "metadata": {},
   "source": []
  },
  {
   "cell_type": "markdown",
   "metadata": {},
   "source": [
    "-----------------------\n",
    "矩阵乘法  A 行 列  * B 行 列 = C （A行 B列）      |  A行分别与B列相乘\n",
    "    A列必须等于B行\n"
   ]
  },
  {
   "cell_type": "markdown",
   "metadata": {},
   "source": [
    "#### 使用旋转矩阵进行坐标变换\n",
    "\n",
    "使用旋转矩阵对一个点进行转动操作，这与坐标变换问题密切相关。\n",
    "假设由A和B两个不同的坐标系，我们使用机构学和机器人文献中常见的符号来表示坐标系，使用左上角标来指代向量或矩阵所在的坐标系。\n",
    "\n",
    "因此，\n",
    "\n",
    "$x $一个点　\n",
    "\n",
    "$ \\bm{x}$ 从原点 O 指向点x的一个几何向量，或者由三个数字组成的一个向量。这些数字表示点x在一个未具体指定的坐标系中的坐标\n",
    "\n",
    "$^A\\bm{x}$ 由三个数字组成的一个向量 ,表示点x在参考系A中的坐标\n",
    " \n",
    "令 $^A\\bm{x}$表示某x点在参考系A中的坐标，令 $^B\\bm{x}$表示同一点在参考系B中的坐标，\n",
    "\n",
    "令 $^B_A\\bm{R}$ 表示将坐标系B转动到坐标系A的旋转矩阵。\n",
    "\n",
    "$$"
   ]
  },
  {
   "cell_type": "markdown",
   "metadata": {},
   "source": []
  },
  {
   "cell_type": "markdown",
   "metadata": {},
   "source": []
  }
 ],
 "metadata": {
  "kernelspec": {
   "display_name": "Python 3.8.8 ('base')",
   "language": "python",
   "name": "python3"
  },
  "language_info": {
   "codemirror_mode": {
    "name": "ipython",
    "version": 3
   },
   "file_extension": ".py",
   "mimetype": "text/x-python",
   "name": "python",
   "nbconvert_exporter": "python",
   "pygments_lexer": "ipython3",
   "version": "3.8.8"
  },
  "orig_nbformat": 4,
  "vscode": {
   "interpreter": {
    "hash": "73d87cb0b3a67d134b0b5be0b5dad3a2cd7bcde46fe802a472bd3fb72ce78291"
   }
  }
 },
 "nbformat": 4,
 "nbformat_minor": 2
}

