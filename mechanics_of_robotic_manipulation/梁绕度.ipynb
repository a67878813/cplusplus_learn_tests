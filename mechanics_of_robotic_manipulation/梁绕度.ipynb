{
 "cells": [
  {
   "cell_type": "markdown",
   "metadata": {},
   "source": []
  },
  {
   "cell_type": "markdown",
   "metadata": {},
   "source": [
    "梁桡度计算\n",
    "\n",
    "符号\n",
    "E 杨氏模量  正应力比正应变\n",
    "\n",
    "$$\n",
    "E = \\frac{\\sigma}{\\varepsilon}\n",
    "$$\n",
    "钢惯性矩 $2 \\times 10^{11} N M^{-2}$\n",
    "\n",
    "$$\n",
    "\\varepsilon = \\frac{\\sigma}{E}\n",
    "$$\n",
    "\n",
    "$\\it{I}$ 惯性矩\n",
    "\n",
    " 与材料性能参数无关 定义：界面上所有点坐标与坐标轴距离的平方\n",
    "\n",
    "度量为长度的4次方\n",
    "\n",
    "是截面的几何属性。\n",
    "\n",
    "常见{惯性矩 极惯性矩 静矩 惯性积 惯性半径}"
   ]
  },
  {
   "cell_type": "markdown",
   "metadata": {},
   "source": [
    "双支撑梁绕度y曲线方程\n",
    "\n",
    "A- a F b- B\n",
    "\n",
    "总长l\n",
    "\n",
    "$$\n",
    "y= -\\frac{Fbx}\n",
    "{6E\\it{I} \\space l}\n",
    " \\cdot (l^2 - x^2 -b^2)    \n",
    "$$\n",
    "当$(0\\leqslant x \\leqslant a)$\n",
    "\n",
    "$$\n",
    "y= -\\frac{Fb}\n",
    "{6E\\it{I} \\space l}\n",
    " \\cdot [\\frac{1}{b} (x-a)^3 + x(l^2-b^2) - x^3]    \n",
    "$$\n",
    "当$(a\\leqslant x \\leqslant b)$\n",
    "\n"
   ]
  },
  {
   "cell_type": "markdown",
   "metadata": {},
   "source": [
    "若a>b\n",
    "在某处, ymax\n",
    "\n",
    "$$\n",
    "x= \\sqrt{\n",
    "    \\frac{l^2-b^2}\n",
    "        {3}\n",
    "}\n",
    "$$\n",
    "\n",
    "$$\n",
    "y_{max}=\n",
    "-\\frac{Fb(l^2-b^2)^{\\frac{3}{2}}}\n",
    "    {9\\sqrt{3} E\\it{I} \\space l}\n",
    "$$\n",
    "\n",
    "\n"
   ]
  },
  {
   "cell_type": "markdown",
   "metadata": {},
   "source": [
    "常见惯性矩 $\\it{I}$ 公式\n",
    "\n",
    "矩形：b宽  h高\n",
    "\n",
    "$$\n",
    "\\it{I_z} =\\frac{bh^3}\n",
    "{36}\n",
    "$$\n",
    "\n",
    "$y=h/2$\n",
    "$$\n",
    "W_z= \\frac{\\it{I}_z}\n",
    "    {|y_{max}|}\n",
    "\n",
    "    = 1/6 \\cdot (bh^2)\n",
    "$$\n",
    "\n",
    "\n",
    "三角形：\n",
    "\n",
    "$$\n",
    "\\frac{bh^3}\n",
    "{36}\n",
    "$$\n",
    "b底边 h高\n",
    "\n",
    "\n",
    "圆形： d直径\n",
    "\n",
    "$$\n",
    "\\frac{\\pi d^4}\n",
    "{64}\n",
    "$$\n",
    "\n",
    "圆环：  d内环直径 D外环直径 $\\alpha = \\frac{d}{D}$\n",
    "\n",
    "$$\n",
    "\\frac{\\pi D^4(1-\\alpha^4)}\n",
    "{64}\n",
    "$$\n",
    "\n",
    "\n",
    "\n",
    "中空矩形：\n",
    "H h B b 直径 \n",
    "主轴线 平行于边\n",
    "\n",
    "$$\n",
    "\\it{I_z}=\n",
    "\\frac{1}{12}(BH^3 -bh^3)\n",
    "$$\n",
    "$$\n",
    "\\it{I_y}=\n",
    "\\frac{1}{12}(HB^3 -hb^3)\n",
    "$$\n",
    "$$\n",
    "W_z= \\frac{BH^3-bh^3}\n",
    "    {6H}\n",
    "$$\n",
    "\n",
    "\n",
    "\n"
   ]
  },
  {
   "cell_type": "markdown",
   "metadata": {},
   "source": [
    "\n",
    "\n",
    "截面惯性矩定义公式：\n",
    "\n",
    "$$\n",
    "\\it{\\bm{I}}_z = \\int_A y^2\\mathrm{d}A\n",
    "$$\n",
    "\n",
    "$$\n",
    "\\it{\\bm{I}}_y = \\int_A z^2\\mathrm{d}A\n",
    "$$\n",
    "\n"
   ]
  },
  {
   "cell_type": "markdown",
   "metadata": {},
   "source": [
    "截面抵抗矩 计算某构件断面位置最不利的最大应力\n",
    "\n",
    "W = 截面对形心轴惯性矩与截面上最远点至形心轴距离的比值"
   ]
  },
  {
   "cell_type": "markdown",
   "metadata": {},
   "source": [
    "泊松比 垂直影变$\\varepsilon _1$ 与 载荷应变$\\varepsilon$的负比值\n",
    "\n",
    "通常通过试验测定\n",
    "\n",
    "钢0.25\n",
    "水0.5\n"
   ]
  },
  {
   "cell_type": "markdown",
   "metadata": {},
   "source": [
    "抗拉强度  经过屈服阶段后进入强化阶段后 拉断时所受的最大力初一原横截面积 \n",
    "\n",
    "单位$N/{mm}^2    (MPa)$\n",
    "$$\n",
    "\\sigma _b =\\frac{F_{b \\space( max)} }{S_{origin}}\n",
    "$$\n",
    "\n",
    "随拉力增大，形变增大，分别有 F — p e s s' 点"
   ]
  },
  {
   "cell_type": "markdown",
   "metadata": {},
   "source": [
    "梁强度条件\n",
    "\n",
    "纯弯曲梁的最大弯曲正应力：(最远处为薄弱处)\n",
    "\n",
    "$$\n",
    "\\sigma_{max} \\leqslant [\\sigma]\n",
    "$$\n",
    "\n",
    "1. 等截面直梁，中性轴为横截面对称轴 \n",
    "\n",
    "   ${W_z}$ 抗弯截面系数\n",
    "$$\n",
    "\\sigma_{max} = \\frac{M_{max} }  {W_z}  \\leqslant [\\sigma]\n",
    "$$\n",
    "\n",
    "2. 中性轴不是对称轴，材料抗拉强度不等 \n",
    "\n",
    "$$\n",
    "\\sigma_{t,max}  \\leqslant [\\sigma _t]\n",
    "$$\n",
    "$$\n",
    "\\sigma_{c,max}  \\leqslant [\\sigma _c]\n",
    "$$\n",
    "\n",
    "还要满足抗剪\n",
    "\n",
    "$$\n",
    "\\tau_{max} \\leqslant [\\tau]\n",
    "$$\n",
    "\n",
    "等截面直梁，   b 中性轴处截面的宽度(中性轴为薄弱处)\n",
    "$$\n",
    "\\tau_{max} =    \\frac{F_{S_{max}}  \\cdot S^{*}_{z,max}        }\n",
    "      {\\it{I} \\cdot b} \n",
    "$$\n"
   ]
  },
  {
   "cell_type": "markdown",
   "metadata": {},
   "source": []
  },
  {
   "cell_type": "markdown",
   "metadata": {},
   "source": []
  }
 ],
 "metadata": {
  "kernelspec": {
   "display_name": "Python 3.8.8 ('base')",
   "language": "python",
   "name": "python3"
  },
  "language_info": {
   "name": "python",
   "version": "3.8.8"
  },
  "orig_nbformat": 4,
  "vscode": {
   "interpreter": {
    "hash": "73d87cb0b3a67d134b0b5be0b5dad3a2cd7bcde46fe802a472bd3fb72ce78291"
   }
  }
 },
 "nbformat": 4,
 "nbformat_minor": 2
}

